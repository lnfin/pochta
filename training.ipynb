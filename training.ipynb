{
  "cells": [
    {
      "cell_type": "markdown",
      "metadata": {
        "id": "fnE1_J-4dhSR"
      },
      "source": [
        "## Загрузим нужные библиотеки"
      ]
    },
    {
      "cell_type": "code",
      "execution_count": 1,
      "metadata": {
        "colab": {
          "base_uri": "https://localhost:8080/"
        },
        "id": "47hdWgd2PlBA",
        "outputId": "5a3721e9-8a68-48df-fc4f-877d256b9993"
      },
      "outputs": [
        {
          "output_type": "stream",
          "name": "stdout",
          "text": [
            "Drive already mounted at /content/drive; to attempt to forcibly remount, call drive.mount(\"/content/drive\", force_remount=True).\n"
          ]
        }
      ],
      "source": [
        "from google.colab import drive\n",
        "drive.mount('/content/drive')"
      ]
    },
    {
      "cell_type": "code",
      "execution_count": 2,
      "metadata": {
        "colab": {
          "base_uri": "https://localhost:8080/"
        },
        "id": "aifHVL2PQb5g",
        "outputId": "714ec1eb-14e8-499b-db53-a03701a9dcdc"
      },
      "outputs": [
        {
          "output_type": "stream",
          "name": "stdout",
          "text": [
            "/content/drive/MyDrive/AI/pochta\n",
            "catboost_info\tscale_pos_weight34.csv\ttrain_dataset_train.csv\n",
            "experiments\tsubmissions\t\ttraining.ipynb\n",
            "sample_sub.csv\ttest_dataset_test.csv\tUntitled5.ipynb\n"
          ]
        }
      ],
      "source": [
        "%cd /content/drive/MyDrive/AI/pochta/\n",
        "!ls"
      ]
    },
    {
      "cell_type": "code",
      "execution_count": 3,
      "metadata": {
        "id": "uaKzqUxsdjDa"
      },
      "outputs": [],
      "source": [
        "import pandas as pd\n",
        "import seaborn as sns\n",
        "import matplotlib.pyplot as plt\n",
        "from sklearn.model_selection import train_test_split\n",
        "from sklearn.ensemble import RandomForestClassifier\n",
        "from sklearn.metrics import roc_auc_score, precision_score, f1_score\n",
        "from sklearn.metrics import recall_score\n",
        "from sklearn.model_selection import StratifiedKFold\n",
        "\n",
        "from tqdm import tqdm\n",
        "import os\n",
        "import pickle\n",
        "import logging\n",
        "!pip install catboost -qqq\n",
        "import catboost as cb\n",
        "import numpy as np\n",
        "from catboost.utils import get_gpu_device_count\n",
        "from catboost import CatBoostClassifier\n",
        "\n",
        "!pip install omegaconf -qqq\n",
        "from omegaconf import OmegaConf\n",
        "\n",
        "%matplotlib inline"
      ]
    },
    {
      "cell_type": "code",
      "execution_count": 4,
      "metadata": {
        "id": "0ApLNqUphWjs"
      },
      "outputs": [],
      "source": [
        "params = {\n",
        "    'data': \n",
        " {\n",
        "        'n_splits': 5,\n",
        " },\n",
        "\n",
        "    'cb_params': \n",
        " {\n",
        "        'n_estimators' : 200, #5000\n",
        "        'max_depth' : 4,\n",
        "        'task_type': 'CPU',\n",
        "        # 'border_count' : 64,\n",
        "#        'l2_leaf_reg' : 2,\n",
        "#        'bagging_temperature' : 20,\n",
        "#        'rsm' : .5,\n",
        "        'use_best_model': True,\n",
        "#        'task_type': 'GPU',\n",
        "        'random_state': 42,\n",
        "        'early_stopping_rounds': 25,\n",
        "        # 'scale_pos_weight': 34\n",
        " }\n",
        "}\n",
        "\n",
        "\n",
        "cfg = OmegaConf.create(params)\n",
        "# !mkdir experiments/\n",
        "cfg.exp_name = 'opers'\n",
        "exp_dir = os.path.join('experiments/', cfg.exp_name)\n",
        "if not os.path.exists(exp_dir):\n",
        "    os.mkdir(exp_dir)\n",
        "\n",
        "with open(f\"experiments/{cfg.exp_name}/config.yaml\", \"w\") as f:\n",
        "    OmegaConf.save(cfg, f)"
      ]
    },
    {
      "cell_type": "code",
      "execution_count": null,
      "metadata": {
        "id": "O7BUiySYnDiS"
      },
      "outputs": [],
      "source": [
        "df_train = pd.read_csv('train_dataset_train.csv').drop(columns=['id'])\n",
        "df_train.sample(5)"
      ]
    },
    {
      "cell_type": "code",
      "execution_count": 6,
      "metadata": {
        "id": "EdKPj9AhrZ9-"
      },
      "outputs": [],
      "source": [
        "def reduce_mem_usage(func, verbose=True):\n",
        "    def wrapped(payments):\n",
        "        df = func(payments)\n",
        "        numerics = ['int16', 'int32', 'int64', 'float16', 'float32', 'float64']\n",
        "        start_mem = df.memory_usage().sum() / 1024**2    \n",
        "        for col in df.columns:\n",
        "            col_type = df[col].dtypes\n",
        "            if col_type in numerics:\n",
        "                c_min = df[col].min()\n",
        "                c_max = df[col].max()\n",
        "                if str(col_type)[:3] == 'int':\n",
        "                    if c_min > np.iinfo(np.int8).min and c_max < np.iinfo(np.int8).max:\n",
        "                        df[col] = df[col].astype(np.int8)\n",
        "                    elif c_min > np.iinfo(np.int16).min and c_max < np.iinfo(np.int16).max:\n",
        "                        df[col] = df[col].astype(np.int16)\n",
        "                    elif c_min > np.iinfo(np.int32).min and c_max < np.iinfo(np.int32).max:\n",
        "                        df[col] = df[col].astype(np.int32)\n",
        "                    elif c_min > np.iinfo(np.int64).min and c_max < np.iinfo(np.int64).max:\n",
        "                        df[col] = df[col].astype(np.int64)  \n",
        "                else:\n",
        "                    if c_min > np.finfo(np.float16).min and c_max < np.finfo(np.float16).max:\n",
        "                        df[col] = df[col].astype(np.float16)\n",
        "                    elif c_min > np.finfo(np.float32).min and c_max < np.finfo(np.float32).max:\n",
        "                        df[col] = df[col].astype(np.float32)\n",
        "                    else:\n",
        "                        df[col] = df[col].astype(np.float64)  \n",
        "        end_mem = df.memory_usage().sum() / 1024**2\n",
        "        if verbose: print('Mem. usage decreased from {:5.2f} to {:5.2f} Mb ({:.1f}% reduction)'.format(start_mem, end_mem, 100 * (start_mem - end_mem) / start_mem))\n",
        "        return df\n",
        "    return wrapped"
      ]
    },
    {
      "cell_type": "markdown",
      "metadata": {
        "id": "WcxAsO_Md05t"
      },
      "source": [
        "## Конвертация фичей"
      ]
    },
    {
      "cell_type": "code",
      "execution_count": 7,
      "metadata": {
        "colab": {
          "base_uri": "https://localhost:8080/"
        },
        "id": "UNNbPfanoXQ_",
        "outputId": "6090093d-7fec-485f-9478-4d3b6517a4a4"
      },
      "outputs": [
        {
          "output_type": "stream",
          "name": "stdout",
          "text": [
            "Mem. usage decreased from 1373.29 to 812.53 Mb (40.8% reduction)\n"
          ]
        }
      ],
      "source": [
        "def convert_yes_no(x):\n",
        "    return 1 if x == 'Y' else 0\n",
        "\n",
        "@reduce_mem_usage\n",
        "def convert_types(data):\n",
        "    df = data.copy()\n",
        "    df['oper_type'] = df['oper_type + oper_attr'].apply(lambda x: x.split('_')[0])\n",
        "    df['oper_attr'] = df['oper_type + oper_attr'].apply(lambda x: x.split('_')[1])\n",
        "\n",
        "    index_oper = df['index_oper']\n",
        "\n",
        "    new_values = []\n",
        "    for num in index_oper:\n",
        "        try:\n",
        "            new_values.append(int(float(num)))\n",
        "        except:\n",
        "            new_values.append(-1)\n",
        "    df['index_oper'] = new_values\n",
        "    df['index_oper'] = df['index_oper'].astype('str')\n",
        "\n",
        "    df['is_return'] = df['is_return'].apply(convert_yes_no)\n",
        "    df['is_in_yandex'] = df['is_in_yandex'].apply(convert_yes_no)\n",
        "    df['is_privatecategory'] = df['is_privatecategory'].apply(convert_yes_no)\n",
        "\n",
        "    obj_cols = ['mailctg', 'mailtype', 'mailrank', 'directctg', \n",
        "            'postmark', 'priority', 'class', 'oper_attr', \n",
        "            'oper_type', 'oper_type + oper_attr']\n",
        "\n",
        "    df[obj_cols] = df[obj_cols].astype('str')      \n",
        "    return df    \n",
        "\n",
        "df_train = convert_types(df_train)      "
      ]
    },
    {
      "cell_type": "code",
      "source": [
        "test = convert_types(pd.read_csv('test_dataset_test.csv'))"
      ],
      "metadata": {
        "colab": {
          "base_uri": "https://localhost:8080/"
        },
        "id": "ssVH4lTv3ZVx",
        "outputId": "cd79120c-94c5-4e77-e53e-ffecb26ced6e"
      },
      "execution_count": 9,
      "outputs": [
        {
          "output_type": "stream",
          "name": "stderr",
          "text": [
            "/usr/local/lib/python3.7/dist-packages/IPython/core/interactiveshell.py:3326: DtypeWarning: Columns (2) have mixed types.Specify dtype option on import or set low_memory=False.\n",
            "  exec(code_obj, self.user_global_ns, self.user_ns)\n"
          ]
        },
        {
          "output_type": "stream",
          "name": "stdout",
          "text": [
            "Mem. usage decreased from 915.53 to 553.13 Mb (39.6% reduction)\n"
          ]
        }
      ]
    },
    {
      "cell_type": "code",
      "source": [
        "cols = [ 'index_oper', 'type', 'priority',\n",
        "       'is_privatecategory', 'class', 'is_in_yandex', 'is_return', 'weight',\n",
        "       'mailtype', 'mailctg', 'mailrank', 'directctg', 'transport_pay',\n",
        "       'postmark', 'name_mfi', 'weight_mfi', 'price_mfi',\n",
        "       'dist_qty_oper_login_1', 'total_qty_oper_login_1',\n",
        "       'total_qty_oper_login_0', 'total_qty_over_index_and_type',\n",
        "       'total_qty_over_index', 'is_wrong_sndr_name', 'is_wrong_rcpn_name',\n",
        "       'is_wrong_phone_number', 'is_wrong_address']"
      ],
      "metadata": {
        "id": "JhUHnYqmAp-n"
      },
      "execution_count": 14,
      "outputs": []
    },
    {
      "cell_type": "code",
      "source": [
        "x = train_test.groupby(cols)['oper_type + oper_attr'].unique().reset_index()\n",
        "df = train_test.merge(x, on=cols, how='left').rename(\n",
        "    columns={'oper_type + oper_attr_y': 'unique_oper',\n",
        "             'oper_type + oper_attr_x': 'oper_type + oper_attr',}\n",
        "    )\n",
        "del x"
      ],
      "metadata": {
        "id": "ijI2p1P34QbM"
      },
      "execution_count": 11,
      "outputs": []
    },
    {
      "cell_type": "code",
      "source": [
        "most_freq_oper = train_test['oper_type + oper_attr'].value_counts().index[:50]"
      ],
      "metadata": {
        "id": "HoMfp7R_4qgG"
      },
      "execution_count": 12,
      "outputs": []
    },
    {
      "cell_type": "code",
      "source": [
        "with open(f'experiments/{cfg.exp_name}/df_test.pkl', 'wb') as f:\n",
        "    pickle.dump(test, f)\n",
        "\n",
        "with open(f'experiments/{cfg.exp_name}/df_train.pkl', 'wb') as f:\n",
        "    pickle.dump(df_train, f)"
      ],
      "metadata": {
        "id": "5tRvM8gQ5uL0"
      },
      "execution_count": 23,
      "outputs": []
    },
    {
      "cell_type": "code",
      "source": [
        "df_train = train_test[~train_test['label'].isna()]"
      ],
      "metadata": {
        "id": "Q-P471Xr4oQ1"
      },
      "execution_count": 23,
      "outputs": []
    },
    {
      "cell_type": "code",
      "source": [
        "oper_cols = []\n",
        "for col in most_freq_oper:\n",
        "    oper_cols.append(f'is_oper_{col}')\n",
        "    df_train[f'is_oper_{col}'] = np.zeros(len(df_train))"
      ],
      "metadata": {
        "colab": {
          "base_uri": "https://localhost:8080/"
        },
        "id": "fliGKn0UyoxS",
        "outputId": "8decb3fc-b886-42aa-c1d9-0d1d8a4cbc74"
      },
      "execution_count": 20,
      "outputs": [
        {
          "output_type": "stream",
          "name": "stderr",
          "text": [
            "/usr/local/lib/python3.7/dist-packages/ipykernel_launcher.py:4: SettingWithCopyWarning: \n",
            "A value is trying to be set on a copy of a slice from a DataFrame.\n",
            "Try using .loc[row_indexer,col_indexer] = value instead\n",
            "\n",
            "See the caveats in the documentation: https://pandas.pydata.org/pandas-docs/stable/user_guide/indexing.html#returning-a-view-versus-a-copy\n",
            "  after removing the cwd from sys.path.\n"
          ]
        }
      ]
    },
    {
      "cell_type": "code",
      "source": [
        "unique_oper = df_train['unique_oper']\n",
        "is_oper_list = []\n",
        "for idx in tqdm(range(len(df_train))):\n",
        "    uniq_opers = unique_oper[idx]\n",
        "    opers = []\n",
        "    for col in most_freq_oper:\n",
        "        if col in uniq_opers:\n",
        "            opers.append(1)\n",
        "        else:\n",
        "            opers.append(0)\n",
        "    is_oper_list.append(opers)\n",
        "    # df.loc[idx, oper_cols] = opers\n",
        "is_oper_list = np.array(is_oper_list)\n",
        "df_train[oper_cols] = is_oper_list\n",
        "df_train[oper_cols]= df_train[oper_cols].astype(bool)\n",
        "with open(f'experiments/{cfg.exp_name}/df_train_ex.pkl', 'wb') as f:\n",
        "    pickle.dump(df_train, f)"
      ],
      "metadata": {
        "colab": {
          "base_uri": "https://localhost:8080/"
        },
        "id": "UxX4kCgKCdoq",
        "outputId": "96f638b4-0fbc-4538-e8f4-ec32730b3dc5"
      },
      "execution_count": 21,
      "outputs": [
        {
          "output_type": "stream",
          "name": "stderr",
          "text": [
            "100%|██████████| 6000000/6000000 [24:46<00:00, 4036.81it/s]\n",
            "/usr/local/lib/python3.7/dist-packages/pandas/core/frame.py:3678: SettingWithCopyWarning: \n",
            "A value is trying to be set on a copy of a slice from a DataFrame.\n",
            "Try using .loc[row_indexer,col_indexer] = value instead\n",
            "\n",
            "See the caveats in the documentation: https://pandas.pydata.org/pandas-docs/stable/user_guide/indexing.html#returning-a-view-versus-a-copy\n",
            "  self[col] = igetitem(value, i)\n",
            "/usr/local/lib/python3.7/dist-packages/pandas/core/frame.py:3641: SettingWithCopyWarning: \n",
            "A value is trying to be set on a copy of a slice from a DataFrame.\n",
            "Try using .loc[row_indexer,col_indexer] = value instead\n",
            "\n",
            "See the caveats in the documentation: https://pandas.pydata.org/pandas-docs/stable/user_guide/indexing.html#returning-a-view-versus-a-copy\n",
            "  self[k1] = value[k2]\n"
          ]
        }
      ]
    },
    {
      "cell_type": "code",
      "source": [
        "del train_test, df\n",
        "import gc\n",
        "gc.collect()"
      ],
      "metadata": {
        "colab": {
          "base_uri": "https://localhost:8080/"
        },
        "id": "zDFq0RVZB5G1",
        "outputId": "f8ab760e-8799-4306-a794-576139513b55"
      },
      "execution_count": 22,
      "outputs": [
        {
          "output_type": "execute_result",
          "data": {
            "text/plain": [
              "113"
            ]
          },
          "metadata": {},
          "execution_count": 22
        }
      ]
    },
    {
      "cell_type": "code",
      "source": [
        "# with open(f'experiments/{cfg.exp_name}/df_train.pkl', 'rb') as f:\n",
        "#     df_train = pickle.load(f)"
      ],
      "metadata": {
        "id": "h_NPHfw-EVAU"
      },
      "execution_count": 7,
      "outputs": []
    },
    {
      "cell_type": "code",
      "source": [
        "df_train = df_train.drop(columns=['oper_type + oper_attr', 'oper_type', 'oper_attr'])\n",
        "cat_cols = df_train.columns[df_train.dtypes == 'object'].tolist()"
      ],
      "metadata": {
        "id": "ZBiO5yDEYYfE"
      },
      "execution_count": 9,
      "outputs": []
    },
    {
      "cell_type": "markdown",
      "metadata": {
        "id": "kVtmgeQTOlFe"
      },
      "source": [
        "## Обучение"
      ]
    },
    {
      "cell_type": "markdown",
      "source": [
        "### Train test split"
      ],
      "metadata": {
        "id": "0wfSq2blk_rZ"
      }
    },
    {
      "cell_type": "code",
      "execution_count": 10,
      "metadata": {
        "id": "IGtB3TQRDgSK"
      },
      "outputs": [],
      "source": [
        "X_train, X_val, y_train, y_val = train_test_split(df_train.drop(columns=['label']), df_train['label'], test_size=0.2, stratify=df_train['label'])\n"
      ]
    },
    {
      "cell_type": "code",
      "source": [
        "del df_train, train_test, test\n",
        "import gc\n",
        "gc.collect()"
      ],
      "metadata": {
        "colab": {
          "base_uri": "https://localhost:8080/"
        },
        "id": "iQmNt4eVCTuA",
        "outputId": "b06dcbf0-69de-41a4-94be-14696afa3313"
      },
      "execution_count": 33,
      "outputs": [
        {
          "output_type": "execute_result",
          "data": {
            "text/plain": [
              "191"
            ]
          },
          "metadata": {},
          "execution_count": 33
        }
      ]
    },
    {
      "cell_type": "code",
      "execution_count": null,
      "metadata": {
        "id": "AjroKAxs9K1X"
      },
      "outputs": [],
      "source": [
        "train_pool = cb.Pool(X_train, y_train,\n",
        "                cat_features=cat_cols)\n",
        "val_pool = cb.Pool(X_val, y_val,\n",
        "                cat_features=cat_cols)"
      ]
    },
    {
      "cell_type": "code",
      "execution_count": null,
      "metadata": {
        "id": "3CI9gvycml1e"
      },
      "outputs": [],
      "source": [
        "feature_weights = np.ones(X_train.shape[1])\n",
        "feature_weights[0] = 0.2\n",
        "feature_weights[-2] = 0.2\n",
        "feature_weights[-1] = 0.2\n",
        "feature_weights = dict(zip(X_train.columns.tolist(), feature_weights))"
      ]
    },
    {
      "cell_type": "code",
      "execution_count": 1,
      "metadata": {
        "id": "oBT9fzytnSYl"
      },
      "outputs": [],
      "source": [
        "# max_ctr_complexity "
      ]
    },
    {
      "cell_type": "code",
      "execution_count": 11,
      "metadata": {
        "colab": {
          "base_uri": "https://localhost:8080/"
        },
        "id": "Z9biOaeqObAB",
        "outputId": "7493b8b2-9382-413e-fc4e-68d1c24f94f7"
      },
      "outputs": [
        {
          "output_type": "stream",
          "name": "stdout",
          "text": [
            "Learning rate set to 0.5\n",
            "0:\tlearn: 0.0912935\ttest: 0.0914970\tbest: 0.0914970 (0)\ttotal: 4.26s\tremaining: 14m 7s\n",
            "100:\tlearn: 0.0418833\ttest: 0.0415847\tbest: 0.0415847 (100)\ttotal: 5m 58s\tremaining: 5m 51s\n",
            "199:\tlearn: 0.0411102\ttest: 0.0408014\tbest: 0.0408014 (199)\ttotal: 11m 40s\tremaining: 0us\n",
            "\n",
            "bestTest = 0.04080142865\n",
            "bestIteration = 199\n",
            "\n"
          ]
        },
        {
          "output_type": "execute_result",
          "data": {
            "text/plain": [
              "0.8084771291709709"
            ]
          },
          "metadata": {},
          "execution_count": 11
        }
      ],
      "source": [
        "model = CatBoostClassifier(**cfg.cb_params, cat_features=cat_cols.copy())\n",
        "model.fit(X_train, y_train, verbose=100, eval_set=(X_val, y_val))\n",
        "# model.fit(train_pool, verbose=100, eval_set=val_pool)\n",
        "recall_score(y_val, model.predict(X_val), average=\"macro\")"
      ]
    },
    {
      "cell_type": "code",
      "execution_count": 5,
      "metadata": {
        "id": "XdoSBUtNXUqy"
      },
      "outputs": [],
      "source": [
        "# with open(f'experiments/{cfg.exp_name}/model.cb', 'wb') as f:\n",
        "#     pickle.dump(model, f)\n",
        "with open(f'experiments/{cfg.exp_name}/model.cb', 'rb') as f:\n",
        "    model = pickle.load(f)"
      ]
    },
    {
      "cell_type": "code",
      "execution_count": 12,
      "metadata": {
        "colab": {
          "base_uri": "https://localhost:8080/",
          "height": 183
        },
        "id": "_pMeO4LlZRXs",
        "outputId": "520cc975-4b67-4843-e9fb-671a372994a1"
      },
      "outputs": [
        {
          "output_type": "error",
          "ename": "NameError",
          "evalue": "ignored",
          "traceback": [
            "\u001b[0;31m---------------------------------------------------------------------------\u001b[0m",
            "\u001b[0;31mNameError\u001b[0m                                 Traceback (most recent call last)",
            "\u001b[0;32m<ipython-input-12-bcfb1527bba4>\u001b[0m in \u001b[0;36m<module>\u001b[0;34m\u001b[0m\n\u001b[0;32m----> 1\u001b[0;31m model.get_feature_importance(val_pool,\n\u001b[0m\u001b[1;32m      2\u001b[0m                        prettified=True).head(15)\n",
            "\u001b[0;31mNameError\u001b[0m: name 'val_pool' is not defined"
          ]
        }
      ],
      "source": [
        "model.get_feature_importance(val_pool,\n",
        "                       prettified=True).head(15)"
      ]
    },
    {
      "cell_type": "markdown",
      "source": [
        "### Batch training"
      ],
      "metadata": {
        "id": "GtQ9aNOJ_I7n"
      }
    },
    {
      "cell_type": "code",
      "source": [
        "X_train, X_val, y_train, y_val = train_test_split(df_train.drop(columns=['label']), df_train['label'], test_size=0.2, stratify=df_train['label'])"
      ],
      "metadata": {
        "id": "WgczqbV1_Y0z"
      },
      "execution_count": 11,
      "outputs": []
    },
    {
      "cell_type": "code",
      "source": [
        "val_pool = cb.Pool(X_val, y_val,\n",
        "                    cat_features=cat_cols)"
      ],
      "metadata": {
        "id": "vDlvpiX4AbW4"
      },
      "execution_count": 12,
      "outputs": []
    },
    {
      "cell_type": "code",
      "source": [
        "clf = CatBoostClassifier(**cfg.cb_params, cat_features=cat_cols.copy())\n",
        "\n",
        "scores = []\n",
        "models = []\n",
        "num_parts = list(range(0, len(X_train)+1, len(X_train)//5))\n",
        "slices = list(zip(num_parts, num_parts[1:]))\n",
        "for batch_idx in range(len(slices)):\n",
        "    start, end = slices[batch_idx][0], slices[batch_idx][1]\n",
        "    X_batch_train = X_train[start:end]\n",
        "    y_batch_train = y_train[start:end]\n",
        "\n",
        "    train_pool = cb.Pool(X_batch_train, y_batch_train,\n",
        "                    cat_features=cat_cols)\n",
        "\n",
        "    if batch_idx == 0:\n",
        "        clf.fit(train_pool, eval_set=val_pool, verbose=100) \n",
        "    else:\n",
        "        clf.fit(train_pool,      \n",
        "                eval_set=val_pool,\n",
        "                verbose=100,\n",
        "                init_model=f'experiments/{cfg.exp_name}/{batch_idx-1}.cb') \n",
        "    clf.save_model(f'experiments/{cfg.exp_name}/{batch_idx}.cb') \n",
        "\n",
        "    recall = recall_score(y_val, clf.predict(X_val), average=\"macro\")\n",
        "    print(f'Score on #{batch_idx} fold: ', recall)\n",
        "    scores.append(recall)"
      ],
      "metadata": {
        "id": "qGOtv2ImDVj1"
      },
      "execution_count": null,
      "outputs": []
    },
    {
      "cell_type": "code",
      "source": [
        "recall_score(y_val, clf.predict(X_val), average=\"macro\")"
      ],
      "metadata": {
        "colab": {
          "base_uri": "https://localhost:8080/"
        },
        "id": "aPHPhE0rOFkZ",
        "outputId": "62e135ab-ebba-4ee4-9ee7-2f20af90f6e4"
      },
      "execution_count": 15,
      "outputs": [
        {
          "output_type": "execute_result",
          "data": {
            "text/plain": [
              "0.8937988505601142"
            ]
          },
          "metadata": {},
          "execution_count": 15
        }
      ]
    },
    {
      "cell_type": "code",
      "execution_count": null,
      "metadata": {
        "id": "ODGiZqhhgXzt"
      },
      "outputs": [],
      "source": [
        "scores = []\n",
        "models = []\n",
        "num_parts = list(range(0, len(X_train)+1, len(X_train)//5))\n",
        "slices = list(zip(num_parts, num_parts[1:]))\n",
        "for batch_idx in range(len(slices)):\n",
        "    start, end = slices[batch_idx][0], slices[batch_idx][1]\n",
        "    X_batch_train = X_train[start:end]\n",
        "    y_batch_train = y_train[start:end]\n",
        "\n",
        "    train_pool = cb.Pool(X_batch_train, y_batch_train,\n",
        "                        cat_features=cat_cols)\n",
        "    if batch_idx != 0:\n",
        "        train_pool.set_baseline(prev_model.predict(prev_pool))\n",
        "        val_pool.set_baseline([0] * len(X_val))\n",
        "    model = CatBoostClassifier(**cfg.cb_params, cat_features=cat_cols.copy())\n",
        "\n",
        "\n",
        "    model.fit(train_pool, verbose=100, eval_set=val_pool)\n",
        "    recall = recall_score(y_val, model.predict(X_val), average=\"macro\")\n",
        "    print(f'Score on #{batch_idx} fold: ', recall)\n",
        "    scores.append(recall)\n",
        "\n",
        "    models.append(model)\n",
        "    with open(f'experiments/{cfg.exp_name}/{batch_idx}.cb', 'wb') as f:\n",
        "        pickle.dump(model, f)\n",
        "\n",
        "    prev_model = model\n",
        "    prev_pool = train_pool\n",
        "\n",
        "scores = np.array(scores)\n",
        "print(f'Result score: {np.mean(scores)} +- {np.std(scores)}')"
      ]
    },
    {
      "cell_type": "code",
      "source": [
        "meta_pred = meta_model.predict(X_val)\n",
        "meta_pred.shape"
      ],
      "metadata": {
        "colab": {
          "base_uri": "https://localhost:8080/"
        },
        "id": "sOJe4CwsHCHD",
        "outputId": "80af7f51-fe68-4eda-a494-4dcb4b55819b"
      },
      "execution_count": 35,
      "outputs": [
        {
          "output_type": "execute_result",
          "data": {
            "text/plain": [
              "(1200000,)"
            ]
          },
          "metadata": {},
          "execution_count": 35
        }
      ]
    },
    {
      "cell_type": "code",
      "source": [
        "from catboost import (CatBoostRegressor, Pool, sum_models,)\n",
        "\n",
        "meta_model = sum_models(models)\n",
        "recall_score(y_val, meta_model.predict(X_val), average=\"macro\")"
      ],
      "metadata": {
        "colab": {
          "base_uri": "https://localhost:8080/",
          "height": 346
        },
        "id": "Zn33GBimGcla",
        "outputId": "bc7126e3-ee4c-4b1d-f2bc-518408801eb9"
      },
      "execution_count": 32,
      "outputs": [
        {
          "output_type": "error",
          "ename": "ValueError",
          "evalue": "ignored",
          "traceback": [
            "\u001b[0;31m---------------------------------------------------------------------------\u001b[0m",
            "\u001b[0;31mValueError\u001b[0m                                Traceback (most recent call last)",
            "\u001b[0;32m<ipython-input-32-d9a3cf2057ef>\u001b[0m in \u001b[0;36m<module>\u001b[0;34m\u001b[0m\n\u001b[1;32m      2\u001b[0m \u001b[0;34m\u001b[0m\u001b[0m\n\u001b[1;32m      3\u001b[0m \u001b[0mmeta_model\u001b[0m \u001b[0;34m=\u001b[0m \u001b[0msum_models\u001b[0m\u001b[0;34m(\u001b[0m\u001b[0mmodels\u001b[0m\u001b[0;34m)\u001b[0m\u001b[0;34m\u001b[0m\u001b[0;34m\u001b[0m\u001b[0m\n\u001b[0;32m----> 4\u001b[0;31m \u001b[0mrecall_score\u001b[0m\u001b[0;34m(\u001b[0m\u001b[0my_val\u001b[0m\u001b[0;34m,\u001b[0m \u001b[0mmeta_model\u001b[0m\u001b[0;34m.\u001b[0m\u001b[0mpredict\u001b[0m\u001b[0;34m(\u001b[0m\u001b[0mX_val\u001b[0m\u001b[0;34m)\u001b[0m\u001b[0;34m,\u001b[0m \u001b[0maverage\u001b[0m\u001b[0;34m=\u001b[0m\u001b[0;34m\"macro\"\u001b[0m\u001b[0;34m)\u001b[0m\u001b[0;34m\u001b[0m\u001b[0;34m\u001b[0m\u001b[0m\n\u001b[0m",
            "\u001b[0;32m/usr/local/lib/python3.7/dist-packages/sklearn/metrics/_classification.py\u001b[0m in \u001b[0;36mrecall_score\u001b[0;34m(y_true, y_pred, labels, pos_label, average, sample_weight, zero_division)\u001b[0m\n\u001b[1;32m   1907\u001b[0m         \u001b[0mwarn_for\u001b[0m\u001b[0;34m=\u001b[0m\u001b[0;34m(\u001b[0m\u001b[0;34m\"recall\"\u001b[0m\u001b[0;34m,\u001b[0m\u001b[0;34m)\u001b[0m\u001b[0;34m,\u001b[0m\u001b[0;34m\u001b[0m\u001b[0;34m\u001b[0m\u001b[0m\n\u001b[1;32m   1908\u001b[0m         \u001b[0msample_weight\u001b[0m\u001b[0;34m=\u001b[0m\u001b[0msample_weight\u001b[0m\u001b[0;34m,\u001b[0m\u001b[0;34m\u001b[0m\u001b[0;34m\u001b[0m\u001b[0m\n\u001b[0;32m-> 1909\u001b[0;31m         \u001b[0mzero_division\u001b[0m\u001b[0;34m=\u001b[0m\u001b[0mzero_division\u001b[0m\u001b[0;34m,\u001b[0m\u001b[0;34m\u001b[0m\u001b[0;34m\u001b[0m\u001b[0m\n\u001b[0m\u001b[1;32m   1910\u001b[0m     )\n\u001b[1;32m   1911\u001b[0m     \u001b[0;32mreturn\u001b[0m \u001b[0mr\u001b[0m\u001b[0;34m\u001b[0m\u001b[0;34m\u001b[0m\u001b[0m\n",
            "\u001b[0;32m/usr/local/lib/python3.7/dist-packages/sklearn/metrics/_classification.py\u001b[0m in \u001b[0;36mprecision_recall_fscore_support\u001b[0;34m(y_true, y_pred, beta, labels, pos_label, average, warn_for, sample_weight, zero_division)\u001b[0m\n\u001b[1;32m   1542\u001b[0m     \u001b[0;32mif\u001b[0m \u001b[0mbeta\u001b[0m \u001b[0;34m<\u001b[0m \u001b[0;36m0\u001b[0m\u001b[0;34m:\u001b[0m\u001b[0;34m\u001b[0m\u001b[0;34m\u001b[0m\u001b[0m\n\u001b[1;32m   1543\u001b[0m         \u001b[0;32mraise\u001b[0m \u001b[0mValueError\u001b[0m\u001b[0;34m(\u001b[0m\u001b[0;34m\"beta should be >=0 in the F-beta score\"\u001b[0m\u001b[0;34m)\u001b[0m\u001b[0;34m\u001b[0m\u001b[0;34m\u001b[0m\u001b[0m\n\u001b[0;32m-> 1544\u001b[0;31m     \u001b[0mlabels\u001b[0m \u001b[0;34m=\u001b[0m \u001b[0m_check_set_wise_labels\u001b[0m\u001b[0;34m(\u001b[0m\u001b[0my_true\u001b[0m\u001b[0;34m,\u001b[0m \u001b[0my_pred\u001b[0m\u001b[0;34m,\u001b[0m \u001b[0maverage\u001b[0m\u001b[0;34m,\u001b[0m \u001b[0mlabels\u001b[0m\u001b[0;34m,\u001b[0m \u001b[0mpos_label\u001b[0m\u001b[0;34m)\u001b[0m\u001b[0;34m\u001b[0m\u001b[0;34m\u001b[0m\u001b[0m\n\u001b[0m\u001b[1;32m   1545\u001b[0m \u001b[0;34m\u001b[0m\u001b[0m\n\u001b[1;32m   1546\u001b[0m     \u001b[0;31m# Calculate tp_sum, pred_sum, true_sum ###\u001b[0m\u001b[0;34m\u001b[0m\u001b[0;34m\u001b[0m\u001b[0;34m\u001b[0m\u001b[0m\n",
            "\u001b[0;32m/usr/local/lib/python3.7/dist-packages/sklearn/metrics/_classification.py\u001b[0m in \u001b[0;36m_check_set_wise_labels\u001b[0;34m(y_true, y_pred, average, labels, pos_label)\u001b[0m\n\u001b[1;32m   1346\u001b[0m         \u001b[0;32mraise\u001b[0m \u001b[0mValueError\u001b[0m\u001b[0;34m(\u001b[0m\u001b[0;34m\"average has to be one of \"\u001b[0m \u001b[0;34m+\u001b[0m \u001b[0mstr\u001b[0m\u001b[0;34m(\u001b[0m\u001b[0maverage_options\u001b[0m\u001b[0;34m)\u001b[0m\u001b[0;34m)\u001b[0m\u001b[0;34m\u001b[0m\u001b[0;34m\u001b[0m\u001b[0m\n\u001b[1;32m   1347\u001b[0m \u001b[0;34m\u001b[0m\u001b[0m\n\u001b[0;32m-> 1348\u001b[0;31m     \u001b[0my_type\u001b[0m\u001b[0;34m,\u001b[0m \u001b[0my_true\u001b[0m\u001b[0;34m,\u001b[0m \u001b[0my_pred\u001b[0m \u001b[0;34m=\u001b[0m \u001b[0m_check_targets\u001b[0m\u001b[0;34m(\u001b[0m\u001b[0my_true\u001b[0m\u001b[0;34m,\u001b[0m \u001b[0my_pred\u001b[0m\u001b[0;34m)\u001b[0m\u001b[0;34m\u001b[0m\u001b[0;34m\u001b[0m\u001b[0m\n\u001b[0m\u001b[1;32m   1349\u001b[0m     \u001b[0;31m# Convert to Python primitive type to avoid NumPy type / Python str\u001b[0m\u001b[0;34m\u001b[0m\u001b[0;34m\u001b[0m\u001b[0;34m\u001b[0m\u001b[0m\n\u001b[1;32m   1350\u001b[0m     \u001b[0;31m# comparison. See https://github.com/numpy/numpy/issues/6784\u001b[0m\u001b[0;34m\u001b[0m\u001b[0;34m\u001b[0m\u001b[0;34m\u001b[0m\u001b[0m\n",
            "\u001b[0;32m/usr/local/lib/python3.7/dist-packages/sklearn/metrics/_classification.py\u001b[0m in \u001b[0;36m_check_targets\u001b[0;34m(y_true, y_pred)\u001b[0m\n\u001b[1;32m     93\u001b[0m         raise ValueError(\n\u001b[1;32m     94\u001b[0m             \"Classification metrics can't handle a mix of {0} and {1} targets\".format(\n\u001b[0;32m---> 95\u001b[0;31m                 \u001b[0mtype_true\u001b[0m\u001b[0;34m,\u001b[0m \u001b[0mtype_pred\u001b[0m\u001b[0;34m\u001b[0m\u001b[0;34m\u001b[0m\u001b[0m\n\u001b[0m\u001b[1;32m     96\u001b[0m             )\n\u001b[1;32m     97\u001b[0m         )\n",
            "\u001b[0;31mValueError\u001b[0m: Classification metrics can't handle a mix of binary and continuous targets"
          ]
        }
      ]
    },
    {
      "cell_type": "markdown",
      "source": [
        "## Test"
      ],
      "metadata": {
        "id": "QGCyZsIfbn3h"
      }
    },
    {
      "cell_type": "code",
      "source": [
        "test = convert_types(pd.read_csv('test_dataset_test.csv'))"
      ],
      "metadata": {
        "colab": {
          "base_uri": "https://localhost:8080/"
        },
        "id": "PlCyszuGrF4k",
        "outputId": "36695d6b-f7ba-4949-946a-336bf81b78cd"
      },
      "execution_count": 10,
      "outputs": [
        {
          "output_type": "stream",
          "name": "stderr",
          "text": [
            "/usr/local/lib/python3.7/dist-packages/IPython/core/interactiveshell.py:3326: DtypeWarning: Columns (2) have mixed types.Specify dtype option on import or set low_memory=False.\n",
            "  exec(code_obj, self.user_global_ns, self.user_ns)\n"
          ]
        },
        {
          "output_type": "stream",
          "name": "stdout",
          "text": [
            "Mem. usage decreased from 915.53 to 553.13 Mb (39.6% reduction)\n"
          ]
        }
      ]
    },
    {
      "cell_type": "code",
      "source": [
        "del df_train\n",
        "import gc\n",
        "gc.collect()"
      ],
      "metadata": {
        "colab": {
          "base_uri": "https://localhost:8080/"
        },
        "id": "JblUzihGrvBa",
        "outputId": "2c2d3287-ebb1-4e56-a27a-8b44b23936b9"
      },
      "execution_count": 10,
      "outputs": [
        {
          "output_type": "execute_result",
          "data": {
            "text/plain": [
              "195"
            ]
          },
          "metadata": {},
          "execution_count": 10
        }
      ]
    },
    {
      "cell_type": "code",
      "source": [
        "with open(f'experiments/{cfg.exp_name}/df_test.pkl', 'rb') as f:\n",
        "    test = pickle.load(f)"
      ],
      "metadata": {
        "id": "jq83KaaGIv8D"
      },
      "execution_count": 6,
      "outputs": []
    },
    {
      "cell_type": "code",
      "source": [
        "test"
      ],
      "metadata": {
        "colab": {
          "base_uri": "https://localhost:8080/",
          "height": 522
        },
        "id": "LMWcH0aqj9Yr",
        "outputId": "d0352b02-b9a4-4b85-85e6-b08e91a27777"
      },
      "execution_count": 7,
      "outputs": [
        {
          "output_type": "execute_result",
          "data": {
            "text/plain": [
              "              id oper_type + oper_attr index_oper     type priority  \\\n",
              "0        7815282                  8_13     102976     ММПО   7503.0   \n",
              "1        8443555                   8_2     238753     ГОПС   7503.0   \n",
              "2        6352559               1020_-1     618254     ГОПС   7503.0   \n",
              "3        4921420               1016_-1     102968       ТИ   7503.0   \n",
              "4        1420440               1018_-1     102971      Цех   7506.0   \n",
              "...          ...                   ...        ...      ...      ...   \n",
              "3999995  9030800             1017_1001     655003     ГОПС   7503.0   \n",
              "3999996  6275048               1023_-1     102976     ММПО   7503.0   \n",
              "3999997  4701757               1022_-1     102969       ТИ   7503.0   \n",
              "3999998   611153                 39_-1     104006  Участок   7503.0   \n",
              "3999999  7776936                  14_1     102976     ММПО   7503.0   \n",
              "\n",
              "         is_privatecategory class  is_in_yandex  is_return  weight  ...  \\\n",
              "0                         0   0.0             0          0    85.0  ...   \n",
              "1                         0   4.0             1          0    21.0  ...   \n",
              "2                         0   4.0             1          0   388.0  ...   \n",
              "3                         0   0.0             0          0  1203.0  ...   \n",
              "4                         0   0.0             0          0   956.0  ...   \n",
              "...                     ...   ...           ...        ...     ...  ...   \n",
              "3999995                   0   4.0             1          0    53.0  ...   \n",
              "3999996                   0   0.0             0          0   286.0  ...   \n",
              "3999997                   0   0.0             0          0   733.0  ...   \n",
              "3999998                   0   0.0             0          0   265.0  ...   \n",
              "3999999                   0   0.0             0          0   416.0  ...   \n",
              "\n",
              "        is_oper_14_1001 is_oper_4_3 is_oper_1017_1001 is_oper_1017_-1  \\\n",
              "0                 False       False             False           False   \n",
              "1                 False       False             False           False   \n",
              "2                 False       False             False           False   \n",
              "3                 False       False             False           False   \n",
              "4                 False       False             False           False   \n",
              "...                 ...         ...               ...             ...   \n",
              "3999995           False       False             False           False   \n",
              "3999996           False       False             False           False   \n",
              "3999997           False       False             False           False   \n",
              "3999998           False       False             False           False   \n",
              "3999999           False       False             False           False   \n",
              "\n",
              "         is_oper_8_20 is_oper_12_9 is_oper_1017_1000  is_oper_14_18  \\\n",
              "0               False        False             False          False   \n",
              "1               False        False             False          False   \n",
              "2               False        False             False          False   \n",
              "3               False        False             False          False   \n",
              "4               False        False             False          False   \n",
              "...               ...          ...               ...            ...   \n",
              "3999995         False        False             False          False   \n",
              "3999996         False        False             False          False   \n",
              "3999997         False        False             False          False   \n",
              "3999998         False        False             False          False   \n",
              "3999999         False        False             False          False   \n",
              "\n",
              "         is_oper_154_-1  is_oper_41_-1  \n",
              "0                 False          False  \n",
              "1                 False          False  \n",
              "2                 False          False  \n",
              "3                 False          False  \n",
              "4                 False          False  \n",
              "...                 ...            ...  \n",
              "3999995           False          False  \n",
              "3999996           False          False  \n",
              "3999997           False          False  \n",
              "3999998           False          False  \n",
              "3999999           False          False  \n",
              "\n",
              "[4000000 rows x 80 columns]"
            ],
            "text/html": [
              "\n",
              "  <div id=\"df-1cb143e5-389f-4d1d-9bbd-9ba24a5872df\">\n",
              "    <div class=\"colab-df-container\">\n",
              "      <div>\n",
              "<style scoped>\n",
              "    .dataframe tbody tr th:only-of-type {\n",
              "        vertical-align: middle;\n",
              "    }\n",
              "\n",
              "    .dataframe tbody tr th {\n",
              "        vertical-align: top;\n",
              "    }\n",
              "\n",
              "    .dataframe thead th {\n",
              "        text-align: right;\n",
              "    }\n",
              "</style>\n",
              "<table border=\"1\" class=\"dataframe\">\n",
              "  <thead>\n",
              "    <tr style=\"text-align: right;\">\n",
              "      <th></th>\n",
              "      <th>id</th>\n",
              "      <th>oper_type + oper_attr</th>\n",
              "      <th>index_oper</th>\n",
              "      <th>type</th>\n",
              "      <th>priority</th>\n",
              "      <th>is_privatecategory</th>\n",
              "      <th>class</th>\n",
              "      <th>is_in_yandex</th>\n",
              "      <th>is_return</th>\n",
              "      <th>weight</th>\n",
              "      <th>...</th>\n",
              "      <th>is_oper_14_1001</th>\n",
              "      <th>is_oper_4_3</th>\n",
              "      <th>is_oper_1017_1001</th>\n",
              "      <th>is_oper_1017_-1</th>\n",
              "      <th>is_oper_8_20</th>\n",
              "      <th>is_oper_12_9</th>\n",
              "      <th>is_oper_1017_1000</th>\n",
              "      <th>is_oper_14_18</th>\n",
              "      <th>is_oper_154_-1</th>\n",
              "      <th>is_oper_41_-1</th>\n",
              "    </tr>\n",
              "  </thead>\n",
              "  <tbody>\n",
              "    <tr>\n",
              "      <th>0</th>\n",
              "      <td>7815282</td>\n",
              "      <td>8_13</td>\n",
              "      <td>102976</td>\n",
              "      <td>ММПО</td>\n",
              "      <td>7503.0</td>\n",
              "      <td>0</td>\n",
              "      <td>0.0</td>\n",
              "      <td>0</td>\n",
              "      <td>0</td>\n",
              "      <td>85.0</td>\n",
              "      <td>...</td>\n",
              "      <td>False</td>\n",
              "      <td>False</td>\n",
              "      <td>False</td>\n",
              "      <td>False</td>\n",
              "      <td>False</td>\n",
              "      <td>False</td>\n",
              "      <td>False</td>\n",
              "      <td>False</td>\n",
              "      <td>False</td>\n",
              "      <td>False</td>\n",
              "    </tr>\n",
              "    <tr>\n",
              "      <th>1</th>\n",
              "      <td>8443555</td>\n",
              "      <td>8_2</td>\n",
              "      <td>238753</td>\n",
              "      <td>ГОПС</td>\n",
              "      <td>7503.0</td>\n",
              "      <td>0</td>\n",
              "      <td>4.0</td>\n",
              "      <td>1</td>\n",
              "      <td>0</td>\n",
              "      <td>21.0</td>\n",
              "      <td>...</td>\n",
              "      <td>False</td>\n",
              "      <td>False</td>\n",
              "      <td>False</td>\n",
              "      <td>False</td>\n",
              "      <td>False</td>\n",
              "      <td>False</td>\n",
              "      <td>False</td>\n",
              "      <td>False</td>\n",
              "      <td>False</td>\n",
              "      <td>False</td>\n",
              "    </tr>\n",
              "    <tr>\n",
              "      <th>2</th>\n",
              "      <td>6352559</td>\n",
              "      <td>1020_-1</td>\n",
              "      <td>618254</td>\n",
              "      <td>ГОПС</td>\n",
              "      <td>7503.0</td>\n",
              "      <td>0</td>\n",
              "      <td>4.0</td>\n",
              "      <td>1</td>\n",
              "      <td>0</td>\n",
              "      <td>388.0</td>\n",
              "      <td>...</td>\n",
              "      <td>False</td>\n",
              "      <td>False</td>\n",
              "      <td>False</td>\n",
              "      <td>False</td>\n",
              "      <td>False</td>\n",
              "      <td>False</td>\n",
              "      <td>False</td>\n",
              "      <td>False</td>\n",
              "      <td>False</td>\n",
              "      <td>False</td>\n",
              "    </tr>\n",
              "    <tr>\n",
              "      <th>3</th>\n",
              "      <td>4921420</td>\n",
              "      <td>1016_-1</td>\n",
              "      <td>102968</td>\n",
              "      <td>ТИ</td>\n",
              "      <td>7503.0</td>\n",
              "      <td>0</td>\n",
              "      <td>0.0</td>\n",
              "      <td>0</td>\n",
              "      <td>0</td>\n",
              "      <td>1203.0</td>\n",
              "      <td>...</td>\n",
              "      <td>False</td>\n",
              "      <td>False</td>\n",
              "      <td>False</td>\n",
              "      <td>False</td>\n",
              "      <td>False</td>\n",
              "      <td>False</td>\n",
              "      <td>False</td>\n",
              "      <td>False</td>\n",
              "      <td>False</td>\n",
              "      <td>False</td>\n",
              "    </tr>\n",
              "    <tr>\n",
              "      <th>4</th>\n",
              "      <td>1420440</td>\n",
              "      <td>1018_-1</td>\n",
              "      <td>102971</td>\n",
              "      <td>Цех</td>\n",
              "      <td>7506.0</td>\n",
              "      <td>0</td>\n",
              "      <td>0.0</td>\n",
              "      <td>0</td>\n",
              "      <td>0</td>\n",
              "      <td>956.0</td>\n",
              "      <td>...</td>\n",
              "      <td>False</td>\n",
              "      <td>False</td>\n",
              "      <td>False</td>\n",
              "      <td>False</td>\n",
              "      <td>False</td>\n",
              "      <td>False</td>\n",
              "      <td>False</td>\n",
              "      <td>False</td>\n",
              "      <td>False</td>\n",
              "      <td>False</td>\n",
              "    </tr>\n",
              "    <tr>\n",
              "      <th>...</th>\n",
              "      <td>...</td>\n",
              "      <td>...</td>\n",
              "      <td>...</td>\n",
              "      <td>...</td>\n",
              "      <td>...</td>\n",
              "      <td>...</td>\n",
              "      <td>...</td>\n",
              "      <td>...</td>\n",
              "      <td>...</td>\n",
              "      <td>...</td>\n",
              "      <td>...</td>\n",
              "      <td>...</td>\n",
              "      <td>...</td>\n",
              "      <td>...</td>\n",
              "      <td>...</td>\n",
              "      <td>...</td>\n",
              "      <td>...</td>\n",
              "      <td>...</td>\n",
              "      <td>...</td>\n",
              "      <td>...</td>\n",
              "      <td>...</td>\n",
              "    </tr>\n",
              "    <tr>\n",
              "      <th>3999995</th>\n",
              "      <td>9030800</td>\n",
              "      <td>1017_1001</td>\n",
              "      <td>655003</td>\n",
              "      <td>ГОПС</td>\n",
              "      <td>7503.0</td>\n",
              "      <td>0</td>\n",
              "      <td>4.0</td>\n",
              "      <td>1</td>\n",
              "      <td>0</td>\n",
              "      <td>53.0</td>\n",
              "      <td>...</td>\n",
              "      <td>False</td>\n",
              "      <td>False</td>\n",
              "      <td>False</td>\n",
              "      <td>False</td>\n",
              "      <td>False</td>\n",
              "      <td>False</td>\n",
              "      <td>False</td>\n",
              "      <td>False</td>\n",
              "      <td>False</td>\n",
              "      <td>False</td>\n",
              "    </tr>\n",
              "    <tr>\n",
              "      <th>3999996</th>\n",
              "      <td>6275048</td>\n",
              "      <td>1023_-1</td>\n",
              "      <td>102976</td>\n",
              "      <td>ММПО</td>\n",
              "      <td>7503.0</td>\n",
              "      <td>0</td>\n",
              "      <td>0.0</td>\n",
              "      <td>0</td>\n",
              "      <td>0</td>\n",
              "      <td>286.0</td>\n",
              "      <td>...</td>\n",
              "      <td>False</td>\n",
              "      <td>False</td>\n",
              "      <td>False</td>\n",
              "      <td>False</td>\n",
              "      <td>False</td>\n",
              "      <td>False</td>\n",
              "      <td>False</td>\n",
              "      <td>False</td>\n",
              "      <td>False</td>\n",
              "      <td>False</td>\n",
              "    </tr>\n",
              "    <tr>\n",
              "      <th>3999997</th>\n",
              "      <td>4701757</td>\n",
              "      <td>1022_-1</td>\n",
              "      <td>102969</td>\n",
              "      <td>ТИ</td>\n",
              "      <td>7503.0</td>\n",
              "      <td>0</td>\n",
              "      <td>0.0</td>\n",
              "      <td>0</td>\n",
              "      <td>0</td>\n",
              "      <td>733.0</td>\n",
              "      <td>...</td>\n",
              "      <td>False</td>\n",
              "      <td>False</td>\n",
              "      <td>False</td>\n",
              "      <td>False</td>\n",
              "      <td>False</td>\n",
              "      <td>False</td>\n",
              "      <td>False</td>\n",
              "      <td>False</td>\n",
              "      <td>False</td>\n",
              "      <td>False</td>\n",
              "    </tr>\n",
              "    <tr>\n",
              "      <th>3999998</th>\n",
              "      <td>611153</td>\n",
              "      <td>39_-1</td>\n",
              "      <td>104006</td>\n",
              "      <td>Участок</td>\n",
              "      <td>7503.0</td>\n",
              "      <td>0</td>\n",
              "      <td>0.0</td>\n",
              "      <td>0</td>\n",
              "      <td>0</td>\n",
              "      <td>265.0</td>\n",
              "      <td>...</td>\n",
              "      <td>False</td>\n",
              "      <td>False</td>\n",
              "      <td>False</td>\n",
              "      <td>False</td>\n",
              "      <td>False</td>\n",
              "      <td>False</td>\n",
              "      <td>False</td>\n",
              "      <td>False</td>\n",
              "      <td>False</td>\n",
              "      <td>False</td>\n",
              "    </tr>\n",
              "    <tr>\n",
              "      <th>3999999</th>\n",
              "      <td>7776936</td>\n",
              "      <td>14_1</td>\n",
              "      <td>102976</td>\n",
              "      <td>ММПО</td>\n",
              "      <td>7503.0</td>\n",
              "      <td>0</td>\n",
              "      <td>0.0</td>\n",
              "      <td>0</td>\n",
              "      <td>0</td>\n",
              "      <td>416.0</td>\n",
              "      <td>...</td>\n",
              "      <td>False</td>\n",
              "      <td>False</td>\n",
              "      <td>False</td>\n",
              "      <td>False</td>\n",
              "      <td>False</td>\n",
              "      <td>False</td>\n",
              "      <td>False</td>\n",
              "      <td>False</td>\n",
              "      <td>False</td>\n",
              "      <td>False</td>\n",
              "    </tr>\n",
              "  </tbody>\n",
              "</table>\n",
              "<p>4000000 rows × 80 columns</p>\n",
              "</div>\n",
              "      <button class=\"colab-df-convert\" onclick=\"convertToInteractive('df-1cb143e5-389f-4d1d-9bbd-9ba24a5872df')\"\n",
              "              title=\"Convert this dataframe to an interactive table.\"\n",
              "              style=\"display:none;\">\n",
              "        \n",
              "  <svg xmlns=\"http://www.w3.org/2000/svg\" height=\"24px\"viewBox=\"0 0 24 24\"\n",
              "       width=\"24px\">\n",
              "    <path d=\"M0 0h24v24H0V0z\" fill=\"none\"/>\n",
              "    <path d=\"M18.56 5.44l.94 2.06.94-2.06 2.06-.94-2.06-.94-.94-2.06-.94 2.06-2.06.94zm-11 1L8.5 8.5l.94-2.06 2.06-.94-2.06-.94L8.5 2.5l-.94 2.06-2.06.94zm10 10l.94 2.06.94-2.06 2.06-.94-2.06-.94-.94-2.06-.94 2.06-2.06.94z\"/><path d=\"M17.41 7.96l-1.37-1.37c-.4-.4-.92-.59-1.43-.59-.52 0-1.04.2-1.43.59L10.3 9.45l-7.72 7.72c-.78.78-.78 2.05 0 2.83L4 21.41c.39.39.9.59 1.41.59.51 0 1.02-.2 1.41-.59l7.78-7.78 2.81-2.81c.8-.78.8-2.07 0-2.86zM5.41 20L4 18.59l7.72-7.72 1.47 1.35L5.41 20z\"/>\n",
              "  </svg>\n",
              "      </button>\n",
              "      \n",
              "  <style>\n",
              "    .colab-df-container {\n",
              "      display:flex;\n",
              "      flex-wrap:wrap;\n",
              "      gap: 12px;\n",
              "    }\n",
              "\n",
              "    .colab-df-convert {\n",
              "      background-color: #E8F0FE;\n",
              "      border: none;\n",
              "      border-radius: 50%;\n",
              "      cursor: pointer;\n",
              "      display: none;\n",
              "      fill: #1967D2;\n",
              "      height: 32px;\n",
              "      padding: 0 0 0 0;\n",
              "      width: 32px;\n",
              "    }\n",
              "\n",
              "    .colab-df-convert:hover {\n",
              "      background-color: #E2EBFA;\n",
              "      box-shadow: 0px 1px 2px rgba(60, 64, 67, 0.3), 0px 1px 3px 1px rgba(60, 64, 67, 0.15);\n",
              "      fill: #174EA6;\n",
              "    }\n",
              "\n",
              "    [theme=dark] .colab-df-convert {\n",
              "      background-color: #3B4455;\n",
              "      fill: #D2E3FC;\n",
              "    }\n",
              "\n",
              "    [theme=dark] .colab-df-convert:hover {\n",
              "      background-color: #434B5C;\n",
              "      box-shadow: 0px 1px 3px 1px rgba(0, 0, 0, 0.15);\n",
              "      filter: drop-shadow(0px 1px 2px rgba(0, 0, 0, 0.3));\n",
              "      fill: #FFFFFF;\n",
              "    }\n",
              "  </style>\n",
              "\n",
              "      <script>\n",
              "        const buttonEl =\n",
              "          document.querySelector('#df-1cb143e5-389f-4d1d-9bbd-9ba24a5872df button.colab-df-convert');\n",
              "        buttonEl.style.display =\n",
              "          google.colab.kernel.accessAllowed ? 'block' : 'none';\n",
              "\n",
              "        async function convertToInteractive(key) {\n",
              "          const element = document.querySelector('#df-1cb143e5-389f-4d1d-9bbd-9ba24a5872df');\n",
              "          const dataTable =\n",
              "            await google.colab.kernel.invokeFunction('convertToInteractive',\n",
              "                                                     [key], {});\n",
              "          if (!dataTable) return;\n",
              "\n",
              "          const docLinkHtml = 'Like what you see? Visit the ' +\n",
              "            '<a target=\"_blank\" href=https://colab.research.google.com/notebooks/data_table.ipynb>data table notebook</a>'\n",
              "            + ' to learn more about interactive tables.';\n",
              "          element.innerHTML = '';\n",
              "          dataTable['output_type'] = 'display_data';\n",
              "          await google.colab.output.renderOutput(dataTable, element);\n",
              "          const docLink = document.createElement('div');\n",
              "          docLink.innerHTML = docLinkHtml;\n",
              "          element.appendChild(docLink);\n",
              "        }\n",
              "      </script>\n",
              "    </div>\n",
              "  </div>\n",
              "  "
            ]
          },
          "metadata": {},
          "execution_count": 7
        }
      ]
    },
    {
      "cell_type": "code",
      "source": [
        "test = test.drop(columns=['oper_type + oper_attr', 'oper_type', 'oper_attr'])\n",
        "cat_cols = test.columns[test.dtypes == 'object'].tolist()"
      ],
      "metadata": {
        "id": "eZtcMP1nkIKk"
      },
      "execution_count": 8,
      "outputs": []
    },
    {
      "cell_type": "code",
      "source": [
        "most_freq_oper = df_train.columns[df_train.columns.str.startswith('is_oper')]\n",
        "len(most_freq_oper)"
      ],
      "metadata": {
        "colab": {
          "base_uri": "https://localhost:8080/"
        },
        "id": "PkoPWZkZJCnX",
        "outputId": "c357659b-c165-47a1-c1e3-94dbaaabc329"
      },
      "execution_count": 9,
      "outputs": [
        {
          "output_type": "execute_result",
          "data": {
            "text/plain": [
              "50"
            ]
          },
          "metadata": {},
          "execution_count": 9
        }
      ]
    },
    {
      "cell_type": "code",
      "source": [
        "for col in most_freq_oper:\n",
        "    test[f'{col}'] = np.zeros(len(test))"
      ],
      "metadata": {
        "id": "PkfxcwENb-Lw"
      },
      "execution_count": 11,
      "outputs": []
    },
    {
      "cell_type": "code",
      "source": [
        "test['unique_oper']"
      ],
      "metadata": {
        "colab": {
          "base_uri": "https://localhost:8080/"
        },
        "id": "QOvptMbVsD_Q",
        "outputId": "509d12ca-e158-4c13-94ac-82fa6a59773c"
      },
      "execution_count": 12,
      "outputs": [
        {
          "output_type": "execute_result",
          "data": {
            "text/plain": [
              "6000000    [1004_-1, 1019_-1, 8_6, 1023_-1, 1020_-1, 14_1...\n",
              "6000001                                           [8_2, 2_1]\n",
              "6000002                         [2_1, 8_2, 1020_-1, 1019_-1]\n",
              "6000003                              [8_0, 1016_-1, 1022_-1]\n",
              "6000004    [1020_-1, 1_-1, 1022_-1, 1018_-1, 1041_-1, 104...\n",
              "                                 ...                        \n",
              "9999995    [8_2, 1019_-1, 1020_-1, 4_3, 1022_-1, 8_20, 10...\n",
              "9999996    [1004_-1, 1019_-1, 14_10, 8_0, 8_6, 1022_-1, 1...\n",
              "9999997                                       [8_0, 1022_-1]\n",
              "9999998                                              [39_-1]\n",
              "9999999    [1023_-1, 1014_-1, 8_13, 9_-1, 1019_-1, 1004_-...\n",
              "Name: unique_oper, Length: 4000000, dtype: object"
            ]
          },
          "metadata": {},
          "execution_count": 12
        }
      ]
    },
    {
      "cell_type": "code",
      "source": [
        "oper_cols = most_freq_oper"
      ],
      "metadata": {
        "id": "IHxB3fUExEAm"
      },
      "execution_count": 13,
      "outputs": []
    },
    {
      "cell_type": "code",
      "source": [
        "test = test.reset_index().drop(columns=['index'])"
      ],
      "metadata": {
        "id": "iBD2aEszKUA2"
      },
      "execution_count": 15,
      "outputs": []
    },
    {
      "cell_type": "code",
      "source": [
        "unique_oper = test['unique_oper']\n",
        "test = test.drop(columns=['oper_type + oper_attr', 'oper_type', 'oper_attr', 'unique_oper'])\n",
        "is_oper_list = []\n",
        "for idx in tqdm(range(len(test))):\n",
        "    uniq_opers = unique_oper[idx]\n",
        "    opers = []\n",
        "    for col in most_freq_oper:\n",
        "        if col in uniq_opers:\n",
        "            opers.append(1)\n",
        "        else:\n",
        "            opers.append(0)\n",
        "    is_oper_list.append(opers)\n",
        "    # df.loc[idx, oper_cols] = opers\n",
        "is_oper_list = np.array(is_oper_list)\n",
        "test[oper_cols] = is_oper_list\n",
        "del is_oper_list\n",
        "test[oper_cols]= test[oper_cols].astype(bool)"
      ],
      "metadata": {
        "colab": {
          "base_uri": "https://localhost:8080/"
        },
        "id": "hDAPjRDbcuA-",
        "outputId": "03f23aa5-57fb-4bb3-8859-4ed2a83ef8fd"
      },
      "execution_count": 17,
      "outputs": [
        {
          "output_type": "stream",
          "name": "stderr",
          "text": [
            "100%|██████████| 4000000/4000000 [15:13<00:00, 4380.52it/s]\n"
          ]
        }
      ]
    },
    {
      "cell_type": "code",
      "source": [
        "test[oper_cols].describe()"
      ],
      "metadata": {
        "colab": {
          "base_uri": "https://localhost:8080/",
          "height": 394
        },
        "id": "DEhZ3b83xrwR",
        "outputId": "fa14ac79-7151-4a22-9000-26328b1eff31"
      },
      "execution_count": 40,
      "outputs": [
        {
          "output_type": "execute_result",
          "data": {
            "text/plain": [
              "       is_oper_1020_-1  is_oper_1022_-1  is_oper_1019_-1   is_oper_8_0  \\\n",
              "count     4.000000e+06     4.000000e+06     4.000000e+06  4.000000e+06   \n",
              "mean      4.522565e-01     4.254695e-01     2.943975e-01  2.428685e-01   \n",
              "std       4.977154e-01     4.944141e-01     4.557715e-01  4.288163e-01   \n",
              "min       0.000000e+00     0.000000e+00     0.000000e+00  0.000000e+00   \n",
              "25%       0.000000e+00     0.000000e+00     0.000000e+00  0.000000e+00   \n",
              "50%       0.000000e+00     0.000000e+00     0.000000e+00  0.000000e+00   \n",
              "75%       1.000000e+00     1.000000e+00     1.000000e+00  0.000000e+00   \n",
              "max       1.000000e+00     1.000000e+00     1.000000e+00  1.000000e+00   \n",
              "\n",
              "       is_oper_1_-1  is_oper_1001_-1  is_oper_1018_-1  is_oper_1004_-1  \\\n",
              "count  4.000000e+06     4.000000e+06     4.000000e+06     4.000000e+06   \n",
              "mean   2.520733e-01     2.444898e-01     2.385645e-01     1.679660e-01   \n",
              "std    4.342031e-01     4.297843e-01     4.262060e-01     3.738361e-01   \n",
              "min    0.000000e+00     0.000000e+00     0.000000e+00     0.000000e+00   \n",
              "25%    0.000000e+00     0.000000e+00     0.000000e+00     0.000000e+00   \n",
              "50%    0.000000e+00     0.000000e+00     0.000000e+00     0.000000e+00   \n",
              "75%    1.000000e+00     0.000000e+00     0.000000e+00     0.000000e+00   \n",
              "max    1.000000e+00     1.000000e+00     1.000000e+00     1.000000e+00   \n",
              "\n",
              "       is_oper_1042_-1  is_oper_1041_-1  ...  is_oper_14_1001   is_oper_4_3  \\\n",
              "count     4.000000e+06     4.000000e+06  ...     4.000000e+06  4.000000e+06   \n",
              "mean      2.247710e-01     2.209090e-01  ...     3.142250e-03  1.465750e-03   \n",
              "std       4.174315e-01     4.148593e-01  ...     5.596764e-02  3.825705e-02   \n",
              "min       0.000000e+00     0.000000e+00  ...     0.000000e+00  0.000000e+00   \n",
              "25%       0.000000e+00     0.000000e+00  ...     0.000000e+00  0.000000e+00   \n",
              "50%       0.000000e+00     0.000000e+00  ...     0.000000e+00  0.000000e+00   \n",
              "75%       0.000000e+00     0.000000e+00  ...     0.000000e+00  0.000000e+00   \n",
              "max       1.000000e+00     1.000000e+00  ...     1.000000e+00  1.000000e+00   \n",
              "\n",
              "       is_oper_1017_1001  is_oper_1017_-1  is_oper_8_20  is_oper_12_9  \\\n",
              "count       4.000000e+06     4.000000e+06  4.000000e+06  4.000000e+06   \n",
              "mean        1.176000e-03     3.487750e-03  1.141500e-03  6.840000e-04   \n",
              "std         3.427269e-02     5.895410e-02  3.376681e-02  2.614445e-02   \n",
              "min         0.000000e+00     0.000000e+00  0.000000e+00  0.000000e+00   \n",
              "25%         0.000000e+00     0.000000e+00  0.000000e+00  0.000000e+00   \n",
              "50%         0.000000e+00     0.000000e+00  0.000000e+00  0.000000e+00   \n",
              "75%         0.000000e+00     0.000000e+00  0.000000e+00  0.000000e+00   \n",
              "max         1.000000e+00     1.000000e+00  1.000000e+00  1.000000e+00   \n",
              "\n",
              "       is_oper_1017_1000  is_oper_14_18  is_oper_154_-1  is_oper_41_-1  \n",
              "count       4.000000e+06   4.000000e+06    4.000000e+06   4.000000e+06  \n",
              "mean        1.755500e-03   1.634250e-03    1.153500e-03   2.067500e-04  \n",
              "std         4.186190e-02   4.039282e-02    3.394363e-02   1.437732e-02  \n",
              "min         0.000000e+00   0.000000e+00    0.000000e+00   0.000000e+00  \n",
              "25%         0.000000e+00   0.000000e+00    0.000000e+00   0.000000e+00  \n",
              "50%         0.000000e+00   0.000000e+00    0.000000e+00   0.000000e+00  \n",
              "75%         0.000000e+00   0.000000e+00    0.000000e+00   0.000000e+00  \n",
              "max         1.000000e+00   1.000000e+00    1.000000e+00   1.000000e+00  \n",
              "\n",
              "[8 rows x 50 columns]"
            ],
            "text/html": [
              "\n",
              "  <div id=\"df-e6ee4357-c686-4343-bce7-6740fe0bb52e\">\n",
              "    <div class=\"colab-df-container\">\n",
              "      <div>\n",
              "<style scoped>\n",
              "    .dataframe tbody tr th:only-of-type {\n",
              "        vertical-align: middle;\n",
              "    }\n",
              "\n",
              "    .dataframe tbody tr th {\n",
              "        vertical-align: top;\n",
              "    }\n",
              "\n",
              "    .dataframe thead th {\n",
              "        text-align: right;\n",
              "    }\n",
              "</style>\n",
              "<table border=\"1\" class=\"dataframe\">\n",
              "  <thead>\n",
              "    <tr style=\"text-align: right;\">\n",
              "      <th></th>\n",
              "      <th>is_oper_1020_-1</th>\n",
              "      <th>is_oper_1022_-1</th>\n",
              "      <th>is_oper_1019_-1</th>\n",
              "      <th>is_oper_8_0</th>\n",
              "      <th>is_oper_1_-1</th>\n",
              "      <th>is_oper_1001_-1</th>\n",
              "      <th>is_oper_1018_-1</th>\n",
              "      <th>is_oper_1004_-1</th>\n",
              "      <th>is_oper_1042_-1</th>\n",
              "      <th>is_oper_1041_-1</th>\n",
              "      <th>...</th>\n",
              "      <th>is_oper_14_1001</th>\n",
              "      <th>is_oper_4_3</th>\n",
              "      <th>is_oper_1017_1001</th>\n",
              "      <th>is_oper_1017_-1</th>\n",
              "      <th>is_oper_8_20</th>\n",
              "      <th>is_oper_12_9</th>\n",
              "      <th>is_oper_1017_1000</th>\n",
              "      <th>is_oper_14_18</th>\n",
              "      <th>is_oper_154_-1</th>\n",
              "      <th>is_oper_41_-1</th>\n",
              "    </tr>\n",
              "  </thead>\n",
              "  <tbody>\n",
              "    <tr>\n",
              "      <th>count</th>\n",
              "      <td>4.000000e+06</td>\n",
              "      <td>4.000000e+06</td>\n",
              "      <td>4.000000e+06</td>\n",
              "      <td>4.000000e+06</td>\n",
              "      <td>4.000000e+06</td>\n",
              "      <td>4.000000e+06</td>\n",
              "      <td>4.000000e+06</td>\n",
              "      <td>4.000000e+06</td>\n",
              "      <td>4.000000e+06</td>\n",
              "      <td>4.000000e+06</td>\n",
              "      <td>...</td>\n",
              "      <td>4.000000e+06</td>\n",
              "      <td>4.000000e+06</td>\n",
              "      <td>4.000000e+06</td>\n",
              "      <td>4.000000e+06</td>\n",
              "      <td>4.000000e+06</td>\n",
              "      <td>4.000000e+06</td>\n",
              "      <td>4.000000e+06</td>\n",
              "      <td>4.000000e+06</td>\n",
              "      <td>4.000000e+06</td>\n",
              "      <td>4.000000e+06</td>\n",
              "    </tr>\n",
              "    <tr>\n",
              "      <th>mean</th>\n",
              "      <td>4.522565e-01</td>\n",
              "      <td>4.254695e-01</td>\n",
              "      <td>2.943975e-01</td>\n",
              "      <td>2.428685e-01</td>\n",
              "      <td>2.520733e-01</td>\n",
              "      <td>2.444898e-01</td>\n",
              "      <td>2.385645e-01</td>\n",
              "      <td>1.679660e-01</td>\n",
              "      <td>2.247710e-01</td>\n",
              "      <td>2.209090e-01</td>\n",
              "      <td>...</td>\n",
              "      <td>3.142250e-03</td>\n",
              "      <td>1.465750e-03</td>\n",
              "      <td>1.176000e-03</td>\n",
              "      <td>3.487750e-03</td>\n",
              "      <td>1.141500e-03</td>\n",
              "      <td>6.840000e-04</td>\n",
              "      <td>1.755500e-03</td>\n",
              "      <td>1.634250e-03</td>\n",
              "      <td>1.153500e-03</td>\n",
              "      <td>2.067500e-04</td>\n",
              "    </tr>\n",
              "    <tr>\n",
              "      <th>std</th>\n",
              "      <td>4.977154e-01</td>\n",
              "      <td>4.944141e-01</td>\n",
              "      <td>4.557715e-01</td>\n",
              "      <td>4.288163e-01</td>\n",
              "      <td>4.342031e-01</td>\n",
              "      <td>4.297843e-01</td>\n",
              "      <td>4.262060e-01</td>\n",
              "      <td>3.738361e-01</td>\n",
              "      <td>4.174315e-01</td>\n",
              "      <td>4.148593e-01</td>\n",
              "      <td>...</td>\n",
              "      <td>5.596764e-02</td>\n",
              "      <td>3.825705e-02</td>\n",
              "      <td>3.427269e-02</td>\n",
              "      <td>5.895410e-02</td>\n",
              "      <td>3.376681e-02</td>\n",
              "      <td>2.614445e-02</td>\n",
              "      <td>4.186190e-02</td>\n",
              "      <td>4.039282e-02</td>\n",
              "      <td>3.394363e-02</td>\n",
              "      <td>1.437732e-02</td>\n",
              "    </tr>\n",
              "    <tr>\n",
              "      <th>min</th>\n",
              "      <td>0.000000e+00</td>\n",
              "      <td>0.000000e+00</td>\n",
              "      <td>0.000000e+00</td>\n",
              "      <td>0.000000e+00</td>\n",
              "      <td>0.000000e+00</td>\n",
              "      <td>0.000000e+00</td>\n",
              "      <td>0.000000e+00</td>\n",
              "      <td>0.000000e+00</td>\n",
              "      <td>0.000000e+00</td>\n",
              "      <td>0.000000e+00</td>\n",
              "      <td>...</td>\n",
              "      <td>0.000000e+00</td>\n",
              "      <td>0.000000e+00</td>\n",
              "      <td>0.000000e+00</td>\n",
              "      <td>0.000000e+00</td>\n",
              "      <td>0.000000e+00</td>\n",
              "      <td>0.000000e+00</td>\n",
              "      <td>0.000000e+00</td>\n",
              "      <td>0.000000e+00</td>\n",
              "      <td>0.000000e+00</td>\n",
              "      <td>0.000000e+00</td>\n",
              "    </tr>\n",
              "    <tr>\n",
              "      <th>25%</th>\n",
              "      <td>0.000000e+00</td>\n",
              "      <td>0.000000e+00</td>\n",
              "      <td>0.000000e+00</td>\n",
              "      <td>0.000000e+00</td>\n",
              "      <td>0.000000e+00</td>\n",
              "      <td>0.000000e+00</td>\n",
              "      <td>0.000000e+00</td>\n",
              "      <td>0.000000e+00</td>\n",
              "      <td>0.000000e+00</td>\n",
              "      <td>0.000000e+00</td>\n",
              "      <td>...</td>\n",
              "      <td>0.000000e+00</td>\n",
              "      <td>0.000000e+00</td>\n",
              "      <td>0.000000e+00</td>\n",
              "      <td>0.000000e+00</td>\n",
              "      <td>0.000000e+00</td>\n",
              "      <td>0.000000e+00</td>\n",
              "      <td>0.000000e+00</td>\n",
              "      <td>0.000000e+00</td>\n",
              "      <td>0.000000e+00</td>\n",
              "      <td>0.000000e+00</td>\n",
              "    </tr>\n",
              "    <tr>\n",
              "      <th>50%</th>\n",
              "      <td>0.000000e+00</td>\n",
              "      <td>0.000000e+00</td>\n",
              "      <td>0.000000e+00</td>\n",
              "      <td>0.000000e+00</td>\n",
              "      <td>0.000000e+00</td>\n",
              "      <td>0.000000e+00</td>\n",
              "      <td>0.000000e+00</td>\n",
              "      <td>0.000000e+00</td>\n",
              "      <td>0.000000e+00</td>\n",
              "      <td>0.000000e+00</td>\n",
              "      <td>...</td>\n",
              "      <td>0.000000e+00</td>\n",
              "      <td>0.000000e+00</td>\n",
              "      <td>0.000000e+00</td>\n",
              "      <td>0.000000e+00</td>\n",
              "      <td>0.000000e+00</td>\n",
              "      <td>0.000000e+00</td>\n",
              "      <td>0.000000e+00</td>\n",
              "      <td>0.000000e+00</td>\n",
              "      <td>0.000000e+00</td>\n",
              "      <td>0.000000e+00</td>\n",
              "    </tr>\n",
              "    <tr>\n",
              "      <th>75%</th>\n",
              "      <td>1.000000e+00</td>\n",
              "      <td>1.000000e+00</td>\n",
              "      <td>1.000000e+00</td>\n",
              "      <td>0.000000e+00</td>\n",
              "      <td>1.000000e+00</td>\n",
              "      <td>0.000000e+00</td>\n",
              "      <td>0.000000e+00</td>\n",
              "      <td>0.000000e+00</td>\n",
              "      <td>0.000000e+00</td>\n",
              "      <td>0.000000e+00</td>\n",
              "      <td>...</td>\n",
              "      <td>0.000000e+00</td>\n",
              "      <td>0.000000e+00</td>\n",
              "      <td>0.000000e+00</td>\n",
              "      <td>0.000000e+00</td>\n",
              "      <td>0.000000e+00</td>\n",
              "      <td>0.000000e+00</td>\n",
              "      <td>0.000000e+00</td>\n",
              "      <td>0.000000e+00</td>\n",
              "      <td>0.000000e+00</td>\n",
              "      <td>0.000000e+00</td>\n",
              "    </tr>\n",
              "    <tr>\n",
              "      <th>max</th>\n",
              "      <td>1.000000e+00</td>\n",
              "      <td>1.000000e+00</td>\n",
              "      <td>1.000000e+00</td>\n",
              "      <td>1.000000e+00</td>\n",
              "      <td>1.000000e+00</td>\n",
              "      <td>1.000000e+00</td>\n",
              "      <td>1.000000e+00</td>\n",
              "      <td>1.000000e+00</td>\n",
              "      <td>1.000000e+00</td>\n",
              "      <td>1.000000e+00</td>\n",
              "      <td>...</td>\n",
              "      <td>1.000000e+00</td>\n",
              "      <td>1.000000e+00</td>\n",
              "      <td>1.000000e+00</td>\n",
              "      <td>1.000000e+00</td>\n",
              "      <td>1.000000e+00</td>\n",
              "      <td>1.000000e+00</td>\n",
              "      <td>1.000000e+00</td>\n",
              "      <td>1.000000e+00</td>\n",
              "      <td>1.000000e+00</td>\n",
              "      <td>1.000000e+00</td>\n",
              "    </tr>\n",
              "  </tbody>\n",
              "</table>\n",
              "<p>8 rows × 50 columns</p>\n",
              "</div>\n",
              "      <button class=\"colab-df-convert\" onclick=\"convertToInteractive('df-e6ee4357-c686-4343-bce7-6740fe0bb52e')\"\n",
              "              title=\"Convert this dataframe to an interactive table.\"\n",
              "              style=\"display:none;\">\n",
              "        \n",
              "  <svg xmlns=\"http://www.w3.org/2000/svg\" height=\"24px\"viewBox=\"0 0 24 24\"\n",
              "       width=\"24px\">\n",
              "    <path d=\"M0 0h24v24H0V0z\" fill=\"none\"/>\n",
              "    <path d=\"M18.56 5.44l.94 2.06.94-2.06 2.06-.94-2.06-.94-.94-2.06-.94 2.06-2.06.94zm-11 1L8.5 8.5l.94-2.06 2.06-.94-2.06-.94L8.5 2.5l-.94 2.06-2.06.94zm10 10l.94 2.06.94-2.06 2.06-.94-2.06-.94-.94-2.06-.94 2.06-2.06.94z\"/><path d=\"M17.41 7.96l-1.37-1.37c-.4-.4-.92-.59-1.43-.59-.52 0-1.04.2-1.43.59L10.3 9.45l-7.72 7.72c-.78.78-.78 2.05 0 2.83L4 21.41c.39.39.9.59 1.41.59.51 0 1.02-.2 1.41-.59l7.78-7.78 2.81-2.81c.8-.78.8-2.07 0-2.86zM5.41 20L4 18.59l7.72-7.72 1.47 1.35L5.41 20z\"/>\n",
              "  </svg>\n",
              "      </button>\n",
              "      \n",
              "  <style>\n",
              "    .colab-df-container {\n",
              "      display:flex;\n",
              "      flex-wrap:wrap;\n",
              "      gap: 12px;\n",
              "    }\n",
              "\n",
              "    .colab-df-convert {\n",
              "      background-color: #E8F0FE;\n",
              "      border: none;\n",
              "      border-radius: 50%;\n",
              "      cursor: pointer;\n",
              "      display: none;\n",
              "      fill: #1967D2;\n",
              "      height: 32px;\n",
              "      padding: 0 0 0 0;\n",
              "      width: 32px;\n",
              "    }\n",
              "\n",
              "    .colab-df-convert:hover {\n",
              "      background-color: #E2EBFA;\n",
              "      box-shadow: 0px 1px 2px rgba(60, 64, 67, 0.3), 0px 1px 3px 1px rgba(60, 64, 67, 0.15);\n",
              "      fill: #174EA6;\n",
              "    }\n",
              "\n",
              "    [theme=dark] .colab-df-convert {\n",
              "      background-color: #3B4455;\n",
              "      fill: #D2E3FC;\n",
              "    }\n",
              "\n",
              "    [theme=dark] .colab-df-convert:hover {\n",
              "      background-color: #434B5C;\n",
              "      box-shadow: 0px 1px 3px 1px rgba(0, 0, 0, 0.15);\n",
              "      filter: drop-shadow(0px 1px 2px rgba(0, 0, 0, 0.3));\n",
              "      fill: #FFFFFF;\n",
              "    }\n",
              "  </style>\n",
              "\n",
              "      <script>\n",
              "        const buttonEl =\n",
              "          document.querySelector('#df-e6ee4357-c686-4343-bce7-6740fe0bb52e button.colab-df-convert');\n",
              "        buttonEl.style.display =\n",
              "          google.colab.kernel.accessAllowed ? 'block' : 'none';\n",
              "\n",
              "        async function convertToInteractive(key) {\n",
              "          const element = document.querySelector('#df-e6ee4357-c686-4343-bce7-6740fe0bb52e');\n",
              "          const dataTable =\n",
              "            await google.colab.kernel.invokeFunction('convertToInteractive',\n",
              "                                                     [key], {});\n",
              "          if (!dataTable) return;\n",
              "\n",
              "          const docLinkHtml = 'Like what you see? Visit the ' +\n",
              "            '<a target=\"_blank\" href=https://colab.research.google.com/notebooks/data_table.ipynb>data table notebook</a>'\n",
              "            + ' to learn more about interactive tables.';\n",
              "          element.innerHTML = '';\n",
              "          dataTable['output_type'] = 'display_data';\n",
              "          await google.colab.output.renderOutput(dataTable, element);\n",
              "          const docLink = document.createElement('div');\n",
              "          docLink.innerHTML = docLinkHtml;\n",
              "          element.appendChild(docLink);\n",
              "        }\n",
              "      </script>\n",
              "    </div>\n",
              "  </div>\n",
              "  "
            ]
          },
          "metadata": {},
          "execution_count": 40
        }
      ]
    },
    {
      "cell_type": "code",
      "source": [
        "cat_cols = test.columns[test.dtypes == 'object'].tolist()"
      ],
      "metadata": {
        "id": "NTr9ybZPPSTj"
      },
      "execution_count": 20,
      "outputs": []
    },
    {
      "cell_type": "code",
      "execution_count": 13,
      "metadata": {
        "id": "YwqDV3uMev76"
      },
      "outputs": [],
      "source": [
        "test_pred = model.predict_proba(cb.Pool(test, cat_features=cat_cols))[:, 1]"
      ]
    },
    {
      "cell_type": "code",
      "execution_count": 16,
      "metadata": {
        "colab": {
          "base_uri": "https://localhost:8080/"
        },
        "id": "1WQdH_x1fiPC",
        "outputId": "d1afcd06-2de3-4927-a2cb-47a9252c9c7c"
      },
      "outputs": [
        {
          "output_type": "execute_result",
          "data": {
            "text/plain": [
              "772369"
            ]
          },
          "metadata": {},
          "execution_count": 16
        }
      ],
      "source": [
        "(test_pred > 0.003).sum()"
      ]
    },
    {
      "cell_type": "code",
      "source": [
        "test_pred"
      ],
      "metadata": {
        "colab": {
          "base_uri": "https://localhost:8080/"
        },
        "id": "qrSY2UyXPoLk",
        "outputId": "7dd3d7a7-e01d-4895-f5c4-bf8b7cd22e76"
      },
      "execution_count": 11,
      "outputs": [
        {
          "output_type": "execute_result",
          "data": {
            "text/plain": [
              "array([0., 0., 0., ..., 0., 0., 0.])"
            ]
          },
          "metadata": {},
          "execution_count": 11
        }
      ]
    },
    {
      "cell_type": "code",
      "execution_count": 17,
      "metadata": {
        "id": "rUq3wy85fqa_"
      },
      "outputs": [],
      "source": [
        "sub = pd.DataFrame(test['id'].astype('int'))\n",
        "sub['label'] = (test_pred > 0.003).astype('int')\n",
        "sub_path = 'submissions'\n",
        "if not os.path.exists(sub_path):\n",
        "    os.mkdir(sub_path)\n",
        "sub.to_csv(f'{sub_path}/0_003.csv', index=False)"
      ]
    },
    {
      "cell_type": "code",
      "execution_count": null,
      "metadata": {
        "id": "YYWS1TjyrVyD"
      },
      "outputs": [],
      "source": []
    }
  ],
  "metadata": {
    "accelerator": "GPU",
    "colab": {
      "machine_shape": "hm",
      "provenance": []
    },
    "gpuClass": "standard",
    "kernelspec": {
      "display_name": "Python 3",
      "language": "python",
      "name": "python3"
    },
    "language_info": {
      "codemirror_mode": {
        "name": "ipython",
        "version": 3
      },
      "file_extension": ".py",
      "mimetype": "text/x-python",
      "name": "python",
      "nbconvert_exporter": "python",
      "pygments_lexer": "ipython3",
      "version": "3.8.10"
    }
  },
  "nbformat": 4,
  "nbformat_minor": 0
}